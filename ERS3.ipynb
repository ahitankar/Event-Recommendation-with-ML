{
 "cells": [
  {
   "cell_type": "code",
   "execution_count": 1,
   "metadata": {},
   "outputs": [],
   "source": [
    "import numpy as np\n",
    "import pandas as pd"
   ]
  },
  {
   "cell_type": "code",
   "execution_count": 2,
   "metadata": {},
   "outputs": [],
   "source": [
    "events = pd.read_excel(\"Event.xlsx\")"
   ]
  },
  {
   "cell_type": "code",
   "execution_count": 3,
   "metadata": {},
   "outputs": [
    {
     "data": {
      "text/html": [
       "<div>\n",
       "<style scoped>\n",
       "    .dataframe tbody tr th:only-of-type {\n",
       "        vertical-align: middle;\n",
       "    }\n",
       "\n",
       "    .dataframe tbody tr th {\n",
       "        vertical-align: top;\n",
       "    }\n",
       "\n",
       "    .dataframe thead th {\n",
       "        text-align: right;\n",
       "    }\n",
       "</style>\n",
       "<table border=\"1\" class=\"dataframe\">\n",
       "  <thead>\n",
       "    <tr style=\"text-align: right;\">\n",
       "      <th></th>\n",
       "      <th>Events</th>\n",
       "      <th>Type</th>\n",
       "      <th>Unnamed: 2</th>\n",
       "    </tr>\n",
       "  </thead>\n",
       "  <tbody>\n",
       "    <tr>\n",
       "      <th>0</th>\n",
       "      <td>Introducing The Management 2.0 Hackathon</td>\n",
       "      <td>Management.Hackathons</td>\n",
       "      <td>NaN</td>\n",
       "    </tr>\n",
       "    <tr>\n",
       "      <th>1</th>\n",
       "      <td>Join us live online on September 10th at 9:30 ...</td>\n",
       "      <td>Management.Webinars</td>\n",
       "      <td>NaN</td>\n",
       "    </tr>\n",
       "    <tr>\n",
       "      <th>2</th>\n",
       "      <td>Learn and practise your delegation skills with...</td>\n",
       "      <td>Management.Webinars</td>\n",
       "      <td>NaN</td>\n",
       "    </tr>\n",
       "    <tr>\n",
       "      <th>3</th>\n",
       "      <td>Upcoming Online Seminar: The Future of Managem...</td>\n",
       "      <td>Management.Webinars</td>\n",
       "      <td>NaN</td>\n",
       "    </tr>\n",
       "    <tr>\n",
       "      <th>4</th>\n",
       "      <td>World's biggest coding event - TechGig Code Gl...</td>\n",
       "      <td>Coding.Hackathons</td>\n",
       "      <td>NaN</td>\n",
       "    </tr>\n",
       "    <tr>\n",
       "      <th>...</th>\n",
       "      <td>...</td>\n",
       "      <td>...</td>\n",
       "      <td>...</td>\n",
       "    </tr>\n",
       "    <tr>\n",
       "      <th>357</th>\n",
       "      <td>Welcome to the international C Expo.</td>\n",
       "      <td>C.Expos</td>\n",
       "      <td>NaN</td>\n",
       "    </tr>\n",
       "    <tr>\n",
       "      <th>358</th>\n",
       "      <td>Book your tickets for the Objective C fair</td>\n",
       "      <td>C.Expos</td>\n",
       "      <td>NaN</td>\n",
       "    </tr>\n",
       "    <tr>\n",
       "      <th>359</th>\n",
       "      <td>Fairs &amp; Expos : The Mivi CeeCon C Expo</td>\n",
       "      <td>C.Expos</td>\n",
       "      <td>NaN</td>\n",
       "    </tr>\n",
       "    <tr>\n",
       "      <th>360</th>\n",
       "      <td>Come down on the weekend and experience a fair...</td>\n",
       "      <td>C.Expos</td>\n",
       "      <td>NaN</td>\n",
       "    </tr>\n",
       "    <tr>\n",
       "      <th>361</th>\n",
       "      <td>Love C? Attend our Expo and learn all the ways...</td>\n",
       "      <td>C.Expos</td>\n",
       "      <td>NaN</td>\n",
       "    </tr>\n",
       "  </tbody>\n",
       "</table>\n",
       "<p>362 rows × 3 columns</p>\n",
       "</div>"
      ],
      "text/plain": [
       "                                                Events                   Type  \\\n",
       "0             Introducing The Management 2.0 Hackathon  Management.Hackathons   \n",
       "1    Join us live online on September 10th at 9:30 ...    Management.Webinars   \n",
       "2    Learn and practise your delegation skills with...    Management.Webinars   \n",
       "3    Upcoming Online Seminar: The Future of Managem...    Management.Webinars   \n",
       "4    World's biggest coding event - TechGig Code Gl...      Coding.Hackathons   \n",
       "..                                                 ...                    ...   \n",
       "357               Welcome to the international C Expo.                C.Expos   \n",
       "358         Book your tickets for the Objective C fair                C.Expos   \n",
       "359             Fairs & Expos : The Mivi CeeCon C Expo                C.Expos   \n",
       "360  Come down on the weekend and experience a fair...                C.Expos   \n",
       "361  Love C? Attend our Expo and learn all the ways...                C.Expos   \n",
       "\n",
       "    Unnamed: 2  \n",
       "0          NaN  \n",
       "1          NaN  \n",
       "2          NaN  \n",
       "3          NaN  \n",
       "4          NaN  \n",
       "..         ...  \n",
       "357        NaN  \n",
       "358        NaN  \n",
       "359        NaN  \n",
       "360        NaN  \n",
       "361        NaN  \n",
       "\n",
       "[362 rows x 3 columns]"
      ]
     },
     "execution_count": 3,
     "metadata": {},
     "output_type": "execute_result"
    }
   ],
   "source": [
    "events"
   ]
  },
  {
   "cell_type": "code",
   "execution_count": 4,
   "metadata": {},
   "outputs": [],
   "source": [
    "target_names = events.Type.unique().tolist()"
   ]
  },
  {
   "cell_type": "code",
   "execution_count": 5,
   "metadata": {},
   "outputs": [
    {
     "data": {
      "text/plain": [
       "['Management.Hackathons',\n",
       " 'Management.Webinars',\n",
       " 'Coding.Hackathons',\n",
       " 'Other.Hackathons',\n",
       " 'Coding.Webinars',\n",
       " 'Coding.Seminars',\n",
       " 'Security.Webinars',\n",
       " 'Security.Seminars',\n",
       " 'Other.Certifications',\n",
       " 'Security.Certifications',\n",
       " 'Other.Competitions',\n",
       " 'Management.Trainings',\n",
       " 'Other.Webinar',\n",
       " 'Higher_Education.Trainings',\n",
       " 'Higher_Education.Internships',\n",
       " 'Higher_Education.Webinars',\n",
       " 'Higher_Education.Expos',\n",
       " 'Higher_Education.Seminars',\n",
       " 'Management.Expos',\n",
       " 'Coding.Fests',\n",
       " 'Coding.Internships',\n",
       " 'Coding.Jobs',\n",
       " 'Coding.Expos',\n",
       " 'Coding.Certifications',\n",
       " 'Coding.Talks',\n",
       " 'Coding.Competitions',\n",
       " 'Artificial_Intelligence.Hackathons',\n",
       " 'Artificial_Intelligence.Webinars',\n",
       " 'Artificial_Intelligence.Fests',\n",
       " 'Artificial_Intelligence.Seminars',\n",
       " 'Artificial_Intelligence.Expos',\n",
       " 'Artificial_Intelligence.Certifications',\n",
       " 'Artificial_Intelligence.Trainings',\n",
       " 'Artificial_Intelligence.Courses',\n",
       " 'Artificial_Intelligence.Jobs',\n",
       " 'Artificial_Intelligence.Internships',\n",
       " 'Artificial_Intelligence.Talks',\n",
       " 'Python.Webinars',\n",
       " 'Python.Hackathons',\n",
       " 'Python.Fests',\n",
       " 'Python.Jobs',\n",
       " 'Python.Trainings',\n",
       " 'Python.Internships',\n",
       " 'Python.Competitions',\n",
       " 'Python.Seminars',\n",
       " 'Python.Expos',\n",
       " 'Python.Talks',\n",
       " 'Python.Courses',\n",
       " 'Python.Certifications',\n",
       " 'Python.Workshops',\n",
       " 'Finance.Hackathons',\n",
       " 'Finance.Webinars',\n",
       " 'Finance.Talks',\n",
       " 'Finance.Fests',\n",
       " 'Finance.Courses',\n",
       " 'Finance.Certifications',\n",
       " 'Finance.Seminars',\n",
       " 'Finance.Jobs',\n",
       " 'Finance.Internships',\n",
       " 'Finance.Workshops',\n",
       " 'Mobile_Applications.Hackathons',\n",
       " 'Mobile_Applications.Webinars',\n",
       " 'Mobile_Applications.Fests',\n",
       " 'Mobile_Applications.Certifications',\n",
       " 'Mobile_Applications.Seminars',\n",
       " 'Mobile_Applications.Courses',\n",
       " 'Mobile_Applications.Expos',\n",
       " 'Mobile_Applications.Jobs',\n",
       " 'Mobile_Applications.Trainings',\n",
       " 'Mobile_Applications.Internships',\n",
       " 'Mobile_Applications.Competitions',\n",
       " 'Mobile_Applications.Talks',\n",
       " 'Mobile_Applications.Workshops',\n",
       " 'Cpp.Hackathons',\n",
       " 'Cpp.Webinars',\n",
       " 'Cpp.Fests',\n",
       " 'Cpp.Certifications',\n",
       " 'Cpp.Seminars',\n",
       " 'Cpp.Courses',\n",
       " 'Cpp.Expos',\n",
       " 'Cpp.Jobs',\n",
       " 'Cpp.Trainings',\n",
       " 'Cpp.Internships',\n",
       " 'Cpp.Competitions',\n",
       " 'Cpp.Talks',\n",
       " 'Cpp.Workshops',\n",
       " 'C.Hackathons',\n",
       " 'C.Webinars',\n",
       " 'C.Fests',\n",
       " 'C.Certifications',\n",
       " 'C.Seminars',\n",
       " 'C.Courses',\n",
       " 'C.Expos']"
      ]
     },
     "execution_count": 5,
     "metadata": {},
     "output_type": "execute_result"
    }
   ],
   "source": [
    "target_names"
   ]
  },
  {
   "cell_type": "code",
   "execution_count": 6,
   "metadata": {},
   "outputs": [],
   "source": [
    "from sklearn.model_selection import train_test_split\n",
    "\n",
    "X_train, X_test, y_train, y_test = train_test_split(events.Events.str.lower().values, events.Type.values, test_size=0.1, shuffle = True, random_state=42)"
   ]
  },
  {
   "cell_type": "code",
   "execution_count": 7,
   "metadata": {},
   "outputs": [
    {
     "data": {
      "text/plain": [
       "(325, 826)"
      ]
     },
     "execution_count": 7,
     "metadata": {},
     "output_type": "execute_result"
    }
   ],
   "source": [
    "from sklearn.feature_extraction.text import CountVectorizer\n",
    "count_vect = CountVectorizer()\n",
    "X_train_counts = count_vect.fit_transform(X_train)\n",
    "X_train_counts.shape"
   ]
  },
  {
   "cell_type": "code",
   "execution_count": 8,
   "metadata": {},
   "outputs": [
    {
     "data": {
      "text/plain": [
       "(325, 826)"
      ]
     },
     "execution_count": 8,
     "metadata": {},
     "output_type": "execute_result"
    }
   ],
   "source": [
    "from sklearn.feature_extraction.text import TfidfTransformer\n",
    "tfidf_transformer = TfidfTransformer()\n",
    "X_train_tfidf = tfidf_transformer.fit_transform(X_train_counts)\n",
    "X_train_tfidf.shape"
   ]
  },
  {
   "cell_type": "code",
   "execution_count": 9,
   "metadata": {},
   "outputs": [],
   "source": [
    "from sklearn.naive_bayes import MultinomialNB\n",
    "clf = MultinomialNB().fit(X_train_tfidf, y_train)"
   ]
  },
  {
   "cell_type": "code",
   "execution_count": 10,
   "metadata": {},
   "outputs": [],
   "source": [
    "from sklearn.pipeline import Pipeline\n",
    "\n",
    "text_clf = Pipeline([('vect', CountVectorizer()), ('tfidf', TfidfTransformer()), ('clf', MultinomialNB())])\n",
    "\n",
    "text_clf = text_clf.fit(X_train, y_train)"
   ]
  },
  {
   "cell_type": "code",
   "execution_count": 11,
   "metadata": {},
   "outputs": [
    {
     "data": {
      "text/plain": [
       "0.05405405405405406"
      ]
     },
     "execution_count": 11,
     "metadata": {},
     "output_type": "execute_result"
    }
   ],
   "source": [
    "import numpy as np\n",
    "predicted = text_clf.predict(X_test)\n",
    "np.mean(predicted == y_test)"
   ]
  },
  {
   "cell_type": "code",
   "execution_count": 12,
   "metadata": {},
   "outputs": [
    {
     "name": "stderr",
     "output_type": "stream",
     "text": [
      "C:\\Users\\HP\\Anaconda3\\lib\\site-packages\\sklearn\\linear_model\\stochastic_gradient.py:183: FutureWarning: max_iter and tol parameters have been added in SGDClassifier in 0.19. If max_iter is set but tol is left unset, the default value for tol in 0.19 and 0.20 will be None (which is equivalent to -infinity, so it has no effect) but will change in 0.21 to 1e-3. Specify tol to silence this warning.\n",
      "  FutureWarning)\n"
     ]
    },
    {
     "name": "stdout",
     "output_type": "stream",
     "text": [
      "banking and finance interns needed: internship alert! : Mobile_Applications.Internships : Finance.Internships\n",
      "join our workshop and improve your c++ skills : Finance.Workshops : Cpp.Workshops\n",
      "artificial intelligence (ai) internship in sathupally at ruralfolks : Artificial_Intelligence.Jobs : Artificial_Intelligence.Internships\n",
      "webinar: islamic finance instruments for economic recovery : Python.Webinars : Finance.Webinars\n",
      "internships available: ios and android internships available at internshala.com : Cpp.Internships : Mobile_Applications.Internships\n",
      "mobile applications unlocked: asia's largest seminar and summit : Mobile_Applications.Seminars : Mobile_Applications.Seminars\n",
      "go from beginner to advance in our c++ bootcamp : Cpp.Courses : Cpp.Workshops\n",
      "get an associate android developer certification : C.Certifications : Mobile_Applications.Certifications\n",
      "code effectively in c - webinar : Cpp.Webinars : C.Webinars\n",
      "workshop on empirical public finance and political economics at ku leuven : Finance.Workshops : Finance.Workshops\n",
      "register for a webinar regarding masters in the usa : Cpp.Certifications : Higher_Education.Webinars\n",
      "to c or not to c. a deep dive conference aout the ubiquitous programming language : C.Hackathons : C.Seminars\n",
      "learn about the latest happenings in artifical intelligence by joining this all in one seminar. : Management.Webinars : Artificial_Intelligence.Seminars\n"
     ]
    },
    {
     "data": {
      "text/plain": [
       "0.16216216216216217"
      ]
     },
     "execution_count": 12,
     "metadata": {},
     "output_type": "execute_result"
    }
   ],
   "source": [
    "from sklearn.linear_model import SGDClassifier\n",
    "from sklearn.pipeline import Pipeline\n",
    "text_clf_svm = Pipeline([('vect', CountVectorizer()), ('tfidf', TfidfTransformer()),\n",
    "                         ('clf-svm', SGDClassifier(loss='hinge', penalty='l2',alpha=1e-3, max_iter=20, random_state=42))])\n",
    "\n",
    "text_clf_svm = text_clf_svm.fit(X_train, y_train)\n",
    "predicted_svm = text_clf_svm.predict(X_test)\n",
    "for i in range(len(X_test)):\n",
    "    if i%3 == 0:\n",
    "        print(X_test[i] + \" : \"+ predicted_svm[i] + \" : \" + y_test[i])\n",
    "np.mean(predicted_svm == y_test)"
   ]
  },
  {
   "cell_type": "code",
   "execution_count": null,
   "metadata": {},
   "outputs": [],
   "source": []
  }
 ],
 "metadata": {
  "kernelspec": {
   "display_name": "Python 3",
   "language": "python",
   "name": "python3"
  },
  "language_info": {
   "codemirror_mode": {
    "name": "ipython",
    "version": 3
   },
   "file_extension": ".py",
   "mimetype": "text/x-python",
   "name": "python",
   "nbconvert_exporter": "python",
   "pygments_lexer": "ipython3",
   "version": "3.7.3"
  }
 },
 "nbformat": 4,
 "nbformat_minor": 4
}
