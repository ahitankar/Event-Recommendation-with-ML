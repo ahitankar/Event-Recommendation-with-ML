{
 "cells": [
  {
   "cell_type": "code",
   "execution_count": 1,
   "metadata": {},
   "outputs": [],
   "source": [
    "import pandas as pd\n",
    "import numpy as np\n",
    "from sklearn.feature_extraction.text import TfidfVectorizer, CountVectorizer\n",
    "from sklearn.metrics.pairwise import linear_kernel, cosine_similarity\n",
    "from csv import reader"
   ]
  },
  {
   "cell_type": "code",
   "execution_count": 2,
   "metadata": {},
   "outputs": [],
   "source": [
    "data= pd.read_csv('CCMLEmployeeData.csv')"
   ]
  },
  {
   "cell_type": "code",
   "execution_count": null,
   "metadata": {
    "scrolled": false
   },
   "outputs": [],
   "source": [
    "movie_name= input(\"Enter movie name: \")"
   ]
  },
  {
   "cell_type": "code",
   "execution_count": 3,
   "metadata": {
    "scrolled": false
   },
   "outputs": [
    {
     "data": {
      "text/html": [
       "<div>\n",
       "<style scoped>\n",
       "    .dataframe tbody tr th:only-of-type {\n",
       "        vertical-align: middle;\n",
       "    }\n",
       "\n",
       "    .dataframe tbody tr th {\n",
       "        vertical-align: top;\n",
       "    }\n",
       "\n",
       "    .dataframe thead th {\n",
       "        text-align: right;\n",
       "    }\n",
       "</style>\n",
       "<table border=\"1\" class=\"dataframe\">\n",
       "  <thead>\n",
       "    <tr style=\"text-align: right;\">\n",
       "      <th></th>\n",
       "      <th>Name</th>\n",
       "      <th>Domain</th>\n",
       "      <th>Event1</th>\n",
       "      <th>Event2</th>\n",
       "    </tr>\n",
       "  </thead>\n",
       "  <tbody>\n",
       "    <tr>\n",
       "      <th>0</th>\n",
       "      <td>Bryan Brock</td>\n",
       "      <td>Management</td>\n",
       "      <td>Jobs</td>\n",
       "      <td>Hackathons</td>\n",
       "    </tr>\n",
       "    <tr>\n",
       "      <th>1</th>\n",
       "      <td>Joseph Sullivan</td>\n",
       "      <td>Coding</td>\n",
       "      <td>Certifications</td>\n",
       "      <td>Webinars</td>\n",
       "    </tr>\n",
       "    <tr>\n",
       "      <th>2</th>\n",
       "      <td>Sherri Dawson</td>\n",
       "      <td>Security</td>\n",
       "      <td>Internships</td>\n",
       "      <td>Fests</td>\n",
       "    </tr>\n",
       "    <tr>\n",
       "      <th>3</th>\n",
       "      <td>Dustin Ferguson</td>\n",
       "      <td>Hardware</td>\n",
       "      <td>Competitions</td>\n",
       "      <td>Webinars</td>\n",
       "    </tr>\n",
       "    <tr>\n",
       "      <th>4</th>\n",
       "      <td>Kayla Young</td>\n",
       "      <td>Web Development</td>\n",
       "      <td>Expos</td>\n",
       "      <td>Certifications</td>\n",
       "    </tr>\n",
       "  </tbody>\n",
       "</table>\n",
       "</div>"
      ],
      "text/plain": [
       "              Name           Domain          Event1          Event2\n",
       "0      Bryan Brock       Management            Jobs      Hackathons\n",
       "1  Joseph Sullivan           Coding  Certifications        Webinars\n",
       "2    Sherri Dawson         Security     Internships           Fests\n",
       "3  Dustin Ferguson         Hardware    Competitions        Webinars\n",
       "4      Kayla Young  Web Development           Expos  Certifications"
      ]
     },
     "execution_count": 3,
     "metadata": {},
     "output_type": "execute_result"
    }
   ],
   "source": [
    "data.head()"
   ]
  },
  {
   "cell_type": "code",
   "execution_count": 4,
   "metadata": {
    "scrolled": true
   },
   "outputs": [
    {
     "data": {
      "text/plain": [
       "Other                      11\n",
       "Security                   11\n",
       "Cloud Computing            11\n",
       "Coding                     10\n",
       "Python                     10\n",
       "Management                 10\n",
       "Blockchain                  9\n",
       "Mobile Applications         9\n",
       "Java                        9\n",
       "IoT                         9\n",
       "Networking                  9\n",
       "Finance                     9\n",
       "C++                         8\n",
       "C                           8\n",
       "Development Processes       8\n",
       "Web Development             7\n",
       "Machine Learning            7\n",
       "Higher Education            7\n",
       "JavaScript                  5\n",
       "Software Architecture       5\n",
       "Data Science                4\n",
       "Hardware                    4\n",
       "Artificial Intelligence     3\n",
       "Name: Domain, dtype: int64"
      ]
     },
     "execution_count": 4,
     "metadata": {},
     "output_type": "execute_result"
    }
   ],
   "source": [
    "data['Domain'].value_counts()"
   ]
  },
  {
   "cell_type": "code",
   "execution_count": 5,
   "metadata": {},
   "outputs": [],
   "source": [
    "string = 'Get a System Administration courses from PurpleHat today.'"
   ]
  },
  {
   "cell_type": "code",
   "execution_count": 18,
   "metadata": {
    "scrolled": true
   },
   "outputs": [
    {
     "name": "stdout",
     "output_type": "stream",
     "text": [
      "<class 'pandas.core.frame.DataFrame'>\n",
      "RangeIndex: 183 entries, 0 to 182\n",
      "Data columns (total 4 columns):\n",
      " #   Column  Non-Null Count  Dtype \n",
      "---  ------  --------------  ----- \n",
      " 0   Name    183 non-null    object\n",
      " 1   Domain  183 non-null    object\n",
      " 2   Event1  183 non-null    object\n",
      " 3   Event2  183 non-null    object\n",
      "dtypes: object(4)\n",
      "memory usage: 5.8+ KB\n"
     ]
    }
   ],
   "source": [
    "data.info()"
   ]
  },
  {
   "cell_type": "code",
   "execution_count": 15,
   "metadata": {},
   "outputs": [
    {
     "data": {
      "text/plain": [
       "['Get',\n",
       " 'a',\n",
       " 'System',\n",
       " 'Administration',\n",
       " 'courses',\n",
       " 'from',\n",
       " 'PurpleHat',\n",
       " 'today.']"
      ]
     },
     "execution_count": 15,
     "metadata": {},
     "output_type": "execute_result"
    }
   ],
   "source": [
    "words = string.split()\n",
    "words"
   ]
  },
  {
   "cell_type": "code",
   "execution_count": 16,
   "metadata": {},
   "outputs": [],
   "source": [
    "new_dataset = data.applymap(str.lower)"
   ]
  },
  {
   "cell_type": "code",
   "execution_count": 9,
   "metadata": {},
   "outputs": [
    {
     "data": {
      "text/plain": [
       "array(['management', 'coding', 'security', 'hardware', 'web development',\n",
       "       'higher education', 'iot', 'java', 'artificial intelligence',\n",
       "       'python', 'finance', 'mobile applications', 'c++',\n",
       "       'software architecture', 'other', 'c', 'cloud computing',\n",
       "       'networking', 'javascript', 'machine learning', 'blockchain',\n",
       "       'development processes', 'data science'], dtype=object)"
      ]
     },
     "execution_count": 9,
     "metadata": {},
     "output_type": "execute_result"
    }
   ],
   "source": [
    "Domain = new_dataset['Domain'].unique()\n",
    "Domain"
   ]
  },
  {
   "cell_type": "code",
   "execution_count": 10,
   "metadata": {},
   "outputs": [
    {
     "data": {
      "text/plain": [
       "array(['jobs', 'certifications', 'internships', 'competitions', 'expos',\n",
       "       'workshops', 'trainings', 'seminars', 'hackathons', 'fests',\n",
       "       'talks', 'webinars', 'courses'], dtype=object)"
      ]
     },
     "execution_count": 10,
     "metadata": {},
     "output_type": "execute_result"
    }
   ],
   "source": [
    "\n",
    "Events = new_dataset['Event1'].unique()\n",
    "Events"
   ]
  },
  {
   "cell_type": "code",
   "execution_count": 11,
   "metadata": {},
   "outputs": [
    {
     "data": {
      "text/html": [
       "<div>\n",
       "<style scoped>\n",
       "    .dataframe tbody tr th:only-of-type {\n",
       "        vertical-align: middle;\n",
       "    }\n",
       "\n",
       "    .dataframe tbody tr th {\n",
       "        vertical-align: top;\n",
       "    }\n",
       "\n",
       "    .dataframe thead th {\n",
       "        text-align: right;\n",
       "    }\n",
       "</style>\n",
       "<table border=\"1\" class=\"dataframe\">\n",
       "  <thead>\n",
       "    <tr style=\"text-align: right;\">\n",
       "      <th></th>\n",
       "      <th>Name</th>\n",
       "      <th>Domain</th>\n",
       "      <th>Event1</th>\n",
       "      <th>Event2</th>\n",
       "    </tr>\n",
       "  </thead>\n",
       "  <tbody>\n",
       "    <tr>\n",
       "      <th>0</th>\n",
       "      <td>bryan brock</td>\n",
       "      <td>management</td>\n",
       "      <td>jobs</td>\n",
       "      <td>hackathons</td>\n",
       "    </tr>\n",
       "    <tr>\n",
       "      <th>1</th>\n",
       "      <td>joseph sullivan</td>\n",
       "      <td>coding</td>\n",
       "      <td>certifications</td>\n",
       "      <td>webinars</td>\n",
       "    </tr>\n",
       "    <tr>\n",
       "      <th>2</th>\n",
       "      <td>sherri dawson</td>\n",
       "      <td>security</td>\n",
       "      <td>internships</td>\n",
       "      <td>fests</td>\n",
       "    </tr>\n",
       "    <tr>\n",
       "      <th>3</th>\n",
       "      <td>dustin ferguson</td>\n",
       "      <td>hardware</td>\n",
       "      <td>competitions</td>\n",
       "      <td>webinars</td>\n",
       "    </tr>\n",
       "    <tr>\n",
       "      <th>4</th>\n",
       "      <td>kayla young</td>\n",
       "      <td>web development</td>\n",
       "      <td>expos</td>\n",
       "      <td>certifications</td>\n",
       "    </tr>\n",
       "    <tr>\n",
       "      <th>...</th>\n",
       "      <td>...</td>\n",
       "      <td>...</td>\n",
       "      <td>...</td>\n",
       "      <td>...</td>\n",
       "    </tr>\n",
       "    <tr>\n",
       "      <th>178</th>\n",
       "      <td>katelyn barnes</td>\n",
       "      <td>coding</td>\n",
       "      <td>courses</td>\n",
       "      <td>webinars</td>\n",
       "    </tr>\n",
       "    <tr>\n",
       "      <th>179</th>\n",
       "      <td>gabriel cruz</td>\n",
       "      <td>other</td>\n",
       "      <td>talks</td>\n",
       "      <td>fests</td>\n",
       "    </tr>\n",
       "    <tr>\n",
       "      <th>180</th>\n",
       "      <td>christina williams</td>\n",
       "      <td>software architecture</td>\n",
       "      <td>talks</td>\n",
       "      <td>fests</td>\n",
       "    </tr>\n",
       "    <tr>\n",
       "      <th>181</th>\n",
       "      <td>william turner</td>\n",
       "      <td>development processes</td>\n",
       "      <td>trainings</td>\n",
       "      <td>seminars</td>\n",
       "    </tr>\n",
       "    <tr>\n",
       "      <th>182</th>\n",
       "      <td>damon lane</td>\n",
       "      <td>c</td>\n",
       "      <td>seminars</td>\n",
       "      <td>internships</td>\n",
       "    </tr>\n",
       "  </tbody>\n",
       "</table>\n",
       "<p>183 rows × 4 columns</p>\n",
       "</div>"
      ],
      "text/plain": [
       "                   Name                 Domain          Event1          Event2\n",
       "0           bryan brock             management            jobs      hackathons\n",
       "1       joseph sullivan                 coding  certifications        webinars\n",
       "2         sherri dawson               security     internships           fests\n",
       "3       dustin ferguson               hardware    competitions        webinars\n",
       "4           kayla young        web development           expos  certifications\n",
       "..                  ...                    ...             ...             ...\n",
       "178      katelyn barnes                 coding         courses        webinars\n",
       "179        gabriel cruz                  other           talks           fests\n",
       "180  christina williams  software architecture           talks           fests\n",
       "181      william turner  development processes       trainings        seminars\n",
       "182          damon lane                      c        seminars     internships\n",
       "\n",
       "[183 rows x 4 columns]"
      ]
     },
     "execution_count": 11,
     "metadata": {},
     "output_type": "execute_result"
    }
   ],
   "source": [
    "new_dataset"
   ]
  },
  {
   "cell_type": "code",
   "execution_count": 14,
   "metadata": {},
   "outputs": [
    {
     "name": "stdout",
     "output_type": "stream",
     "text": [
      "Event:  ['courses']\n"
     ]
    }
   ],
   "source": [
    "\n",
    "for item in words:\n",
    "    if item.lower() in Domain:\n",
    "        index = np.where(Domain == item.lower())\n",
    "        print('Domain: ',Domain[index])\n",
    "    if item.lower() in Events:\n",
    "        index = np.where(Events == item.lower())\n",
    "        print('Event: ',Events[index])"
   ]
  },
  {
   "cell_type": "code",
   "execution_count": 5,
   "metadata": {},
   "outputs": [
    {
     "data": {
      "text/plain": [
       "Index(['Name', 'Domain', 'Event1', 'Event2'], dtype='object')"
      ]
     },
     "execution_count": 5,
     "metadata": {},
     "output_type": "execute_result"
    }
   ],
   "source": [
    "data.columns"
   ]
  },
  {
   "cell_type": "code",
   "execution_count": 6,
   "metadata": {},
   "outputs": [],
   "source": [
    "features=['Domain','Event1','Event2']"
   ]
  },
  {
   "cell_type": "code",
   "execution_count": 7,
   "metadata": {},
   "outputs": [],
   "source": [
    "for f in features:\n",
    "    data[f] = data[f].fillna('')"
   ]
  },
  {
   "cell_type": "code",
   "execution_count": 8,
   "metadata": {},
   "outputs": [],
   "source": [
    "data['Domain'] = data['Domain'].fillna('')\n",
    "data['description'] = data['Domain'] + data['Event1']+data['Event2']\n",
    "data['description'] = data['description'].fillna('')"
   ]
  },
  {
   "cell_type": "code",
   "execution_count": 9,
   "metadata": {
    "scrolled": true
   },
   "outputs": [
    {
     "data": {
      "text/html": [
       "<div>\n",
       "<style scoped>\n",
       "    .dataframe tbody tr th:only-of-type {\n",
       "        vertical-align: middle;\n",
       "    }\n",
       "\n",
       "    .dataframe tbody tr th {\n",
       "        vertical-align: top;\n",
       "    }\n",
       "\n",
       "    .dataframe thead th {\n",
       "        text-align: right;\n",
       "    }\n",
       "</style>\n",
       "<table border=\"1\" class=\"dataframe\">\n",
       "  <thead>\n",
       "    <tr style=\"text-align: right;\">\n",
       "      <th></th>\n",
       "      <th>Name</th>\n",
       "      <th>Domain</th>\n",
       "      <th>Event1</th>\n",
       "      <th>Event2</th>\n",
       "      <th>description</th>\n",
       "    </tr>\n",
       "  </thead>\n",
       "  <tbody>\n",
       "    <tr>\n",
       "      <th>0</th>\n",
       "      <td>Bryan Brock</td>\n",
       "      <td>Management</td>\n",
       "      <td>Jobs</td>\n",
       "      <td>Hackathons</td>\n",
       "      <td>ManagementJobsHackathons</td>\n",
       "    </tr>\n",
       "    <tr>\n",
       "      <th>1</th>\n",
       "      <td>Joseph Sullivan</td>\n",
       "      <td>Coding</td>\n",
       "      <td>Certifications</td>\n",
       "      <td>Webinars</td>\n",
       "      <td>CodingCertificationsWebinars</td>\n",
       "    </tr>\n",
       "    <tr>\n",
       "      <th>2</th>\n",
       "      <td>Sherri Dawson</td>\n",
       "      <td>Security</td>\n",
       "      <td>Internships</td>\n",
       "      <td>Fests</td>\n",
       "      <td>SecurityInternshipsFests</td>\n",
       "    </tr>\n",
       "    <tr>\n",
       "      <th>3</th>\n",
       "      <td>Dustin Ferguson</td>\n",
       "      <td>Hardware</td>\n",
       "      <td>Competitions</td>\n",
       "      <td>Webinars</td>\n",
       "      <td>HardwareCompetitionsWebinars</td>\n",
       "    </tr>\n",
       "    <tr>\n",
       "      <th>4</th>\n",
       "      <td>Kayla Young</td>\n",
       "      <td>Web Development</td>\n",
       "      <td>Expos</td>\n",
       "      <td>Certifications</td>\n",
       "      <td>Web DevelopmentExposCertifications</td>\n",
       "    </tr>\n",
       "    <tr>\n",
       "      <th>...</th>\n",
       "      <td>...</td>\n",
       "      <td>...</td>\n",
       "      <td>...</td>\n",
       "      <td>...</td>\n",
       "      <td>...</td>\n",
       "    </tr>\n",
       "    <tr>\n",
       "      <th>178</th>\n",
       "      <td>Katelyn Barnes</td>\n",
       "      <td>Coding</td>\n",
       "      <td>Courses</td>\n",
       "      <td>Webinars</td>\n",
       "      <td>CodingCoursesWebinars</td>\n",
       "    </tr>\n",
       "    <tr>\n",
       "      <th>179</th>\n",
       "      <td>Gabriel Cruz</td>\n",
       "      <td>Other</td>\n",
       "      <td>Talks</td>\n",
       "      <td>Fests</td>\n",
       "      <td>OtherTalksFests</td>\n",
       "    </tr>\n",
       "    <tr>\n",
       "      <th>180</th>\n",
       "      <td>Christina Williams</td>\n",
       "      <td>Software Architecture</td>\n",
       "      <td>Talks</td>\n",
       "      <td>Fests</td>\n",
       "      <td>Software ArchitectureTalksFests</td>\n",
       "    </tr>\n",
       "    <tr>\n",
       "      <th>181</th>\n",
       "      <td>William Turner</td>\n",
       "      <td>Development Processes</td>\n",
       "      <td>Trainings</td>\n",
       "      <td>Seminars</td>\n",
       "      <td>Development ProcessesTrainingsSeminars</td>\n",
       "    </tr>\n",
       "    <tr>\n",
       "      <th>182</th>\n",
       "      <td>Damon Lane</td>\n",
       "      <td>C</td>\n",
       "      <td>Seminars</td>\n",
       "      <td>Internships</td>\n",
       "      <td>CSeminarsInternships</td>\n",
       "    </tr>\n",
       "  </tbody>\n",
       "</table>\n",
       "<p>183 rows × 5 columns</p>\n",
       "</div>"
      ],
      "text/plain": [
       "                   Name                 Domain          Event1  \\\n",
       "0           Bryan Brock             Management            Jobs   \n",
       "1       Joseph Sullivan                 Coding  Certifications   \n",
       "2         Sherri Dawson               Security     Internships   \n",
       "3       Dustin Ferguson               Hardware    Competitions   \n",
       "4           Kayla Young        Web Development           Expos   \n",
       "..                  ...                    ...             ...   \n",
       "178      Katelyn Barnes                 Coding         Courses   \n",
       "179        Gabriel Cruz                  Other           Talks   \n",
       "180  Christina Williams  Software Architecture           Talks   \n",
       "181      William Turner  Development Processes       Trainings   \n",
       "182          Damon Lane                      C        Seminars   \n",
       "\n",
       "             Event2                             description  \n",
       "0        Hackathons                ManagementJobsHackathons  \n",
       "1          Webinars            CodingCertificationsWebinars  \n",
       "2             Fests                SecurityInternshipsFests  \n",
       "3          Webinars            HardwareCompetitionsWebinars  \n",
       "4    Certifications      Web DevelopmentExposCertifications  \n",
       "..              ...                                     ...  \n",
       "178        Webinars                   CodingCoursesWebinars  \n",
       "179           Fests                         OtherTalksFests  \n",
       "180           Fests         Software ArchitectureTalksFests  \n",
       "181        Seminars  Development ProcessesTrainingsSeminars  \n",
       "182     Internships                    CSeminarsInternships  \n",
       "\n",
       "[183 rows x 5 columns]"
      ]
     },
     "execution_count": 9,
     "metadata": {},
     "output_type": "execute_result"
    }
   ],
   "source": [
    "data\n"
   ]
  },
  {
   "cell_type": "code",
   "execution_count": 10,
   "metadata": {},
   "outputs": [
    {
     "data": {
      "text/plain": [
       "Other                      11\n",
       "Security                   11\n",
       "Cloud Computing            11\n",
       "Coding                     10\n",
       "Python                     10\n",
       "Management                 10\n",
       "Blockchain                  9\n",
       "Mobile Applications         9\n",
       "Java                        9\n",
       "IoT                         9\n",
       "Networking                  9\n",
       "Finance                     9\n",
       "C++                         8\n",
       "C                           8\n",
       "Development Processes       8\n",
       "Web Development             7\n",
       "Machine Learning            7\n",
       "Higher Education            7\n",
       "JavaScript                  5\n",
       "Software Architecture       5\n",
       "Data Science                4\n",
       "Hardware                    4\n",
       "Artificial Intelligence     3\n",
       "Name: Domain, dtype: int64"
      ]
     },
     "execution_count": 10,
     "metadata": {},
     "output_type": "execute_result"
    }
   ],
   "source": [
    "data['Domain'].value_counts()"
   ]
  },
  {
   "cell_type": "code",
   "execution_count": 11,
   "metadata": {},
   "outputs": [],
   "source": [
    "tf = TfidfVectorizer(analyzer='word',ngram_range=(1, 2),min_df=0, stop_words='english')\n",
    "tfidf_matrix = tf.fit_transform(data['description'])"
   ]
  },
  {
   "cell_type": "code",
   "execution_count": 12,
   "metadata": {},
   "outputs": [
    {
     "data": {
      "text/plain": [
       "(183, 241)"
      ]
     },
     "execution_count": 12,
     "metadata": {},
     "output_type": "execute_result"
    }
   ],
   "source": [
    "tfidf_matrix.shape\n"
   ]
  },
  {
   "cell_type": "code",
   "execution_count": 13,
   "metadata": {},
   "outputs": [],
   "source": [
    "cosine_sim = linear_kernel(tfidf_matrix, tfidf_matrix)"
   ]
  },
  {
   "cell_type": "code",
   "execution_count": 14,
   "metadata": {},
   "outputs": [
    {
     "data": {
      "text/plain": [
       "array([1., 0., 0., 0., 0., 0., 0., 0., 0., 0., 0., 0., 0., 0., 0., 0., 0.,\n",
       "       0., 0., 0., 0., 0., 0., 0., 0., 0., 0., 0., 0., 0., 0., 0., 0., 0.,\n",
       "       0., 0., 0., 0., 0., 0., 0., 0., 0., 0., 0., 0., 0., 0., 0., 0., 0.,\n",
       "       0., 0., 0., 0., 0., 0., 0., 0., 0., 0., 0., 0., 0., 0., 0., 0., 0.,\n",
       "       0., 0., 0., 0., 0., 0., 0., 0., 0., 0., 0., 0., 0., 0., 0., 0., 0.,\n",
       "       0., 0., 0., 0., 0., 0., 0., 0., 0., 0., 0., 0., 0., 0., 0., 0., 0.,\n",
       "       0., 0., 0., 0., 0., 0., 0., 0., 0., 0., 0., 0., 0., 0., 0., 0., 0.,\n",
       "       0., 0., 0., 0., 0., 0., 0., 0., 0., 0., 0., 0., 0., 0., 0., 0., 0.,\n",
       "       0., 0., 0., 0., 0., 0., 0., 0., 0., 0., 0., 0., 1., 0., 0., 0., 0.,\n",
       "       0., 0., 0., 0., 0., 0., 0., 0., 0., 0., 0., 0., 0., 0., 0., 0., 0.,\n",
       "       0., 0., 0., 0., 0., 0., 0., 0., 0., 0., 0., 0., 0.])"
      ]
     },
     "execution_count": 14,
     "metadata": {},
     "output_type": "execute_result"
    }
   ],
   "source": [
    "\n",
    "cosine_sim[0]"
   ]
  },
  {
   "cell_type": "code",
   "execution_count": 15,
   "metadata": {},
   "outputs": [],
   "source": [
    "\n",
    "data = data.reset_index(drop=True)\n",
    "titles = data['description']\n",
    "indices = pd.Series(data.index, index=data['description'])"
   ]
  },
  {
   "cell_type": "code",
   "execution_count": 16,
   "metadata": {},
   "outputs": [
    {
     "data": {
      "text/plain": [
       "dtype('int64')"
      ]
     },
     "execution_count": 16,
     "metadata": {},
     "output_type": "execute_result"
    }
   ],
   "source": [
    "    indices.dtypes"
   ]
  },
  {
   "cell_type": "code",
   "execution_count": 17,
   "metadata": {},
   "outputs": [
    {
     "data": {
      "text/plain": [
       "description\n",
       "ManagementJobsHackathons                    0\n",
       "CodingCertificationsWebinars                1\n",
       "SecurityInternshipsFests                    2\n",
       "HardwareCompetitionsWebinars                3\n",
       "Web DevelopmentExposCertifications          4\n",
       "                                         ... \n",
       "CodingCoursesWebinars                     178\n",
       "OtherTalksFests                           179\n",
       "Software ArchitectureTalksFests           180\n",
       "Development ProcessesTrainingsSeminars    181\n",
       "CSeminarsInternships                      182\n",
       "Length: 183, dtype: int64"
      ]
     },
     "execution_count": 17,
     "metadata": {},
     "output_type": "execute_result"
    }
   ],
   "source": [
    "indices"
   ]
  },
  {
   "cell_type": "code",
   "execution_count": 18,
   "metadata": {},
   "outputs": [],
   "source": [
    "def get_recommendations(title):\n",
    "    idx = indices[title]\n",
    "    sim_scores = list(enumerate(cosine_sim[idx]))\n",
    "    sim_scores = sorted(sim_scores, key=lambda x: x[1], reverse=True)\n",
    "    sim_scores = sim_scores[1:31]\n",
    "    movie_indices = [i[0] for i in sim_scores]\n",
    "    return titles.iloc[movie_indices]"
   ]
  },
  {
   "cell_type": "code",
   "execution_count": 20,
   "metadata": {},
   "outputs": [
    {
     "ename": "ValueError",
     "evalue": "The truth value of an array with more than one element is ambiguous. Use a.any() or a.all()",
     "output_type": "error",
     "traceback": [
      "\u001b[1;31m---------------------------------------------------------------------------\u001b[0m",
      "\u001b[1;31mValueError\u001b[0m                                Traceback (most recent call last)",
      "\u001b[1;32m<ipython-input-20-e3bb28c7c073>\u001b[0m in \u001b[0;36m<module>\u001b[1;34m\u001b[0m\n\u001b[1;32m----> 1\u001b[1;33m \u001b[0mget_recommendations\u001b[0m\u001b[1;33m(\u001b[0m\u001b[1;34m'ManagementJobsHackathons'\u001b[0m\u001b[1;33m)\u001b[0m\u001b[1;33m.\u001b[0m\u001b[0mhead\u001b[0m\u001b[1;33m(\u001b[0m\u001b[1;36m10\u001b[0m\u001b[1;33m)\u001b[0m\u001b[1;33m\u001b[0m\u001b[1;33m\u001b[0m\u001b[0m\n\u001b[0m",
      "\u001b[1;32m<ipython-input-18-79b01455b895>\u001b[0m in \u001b[0;36mget_recommendations\u001b[1;34m(title)\u001b[0m\n\u001b[0;32m      2\u001b[0m     \u001b[0midx\u001b[0m \u001b[1;33m=\u001b[0m \u001b[0mindices\u001b[0m\u001b[1;33m[\u001b[0m\u001b[0mtitle\u001b[0m\u001b[1;33m]\u001b[0m\u001b[1;33m\u001b[0m\u001b[1;33m\u001b[0m\u001b[0m\n\u001b[0;32m      3\u001b[0m     \u001b[0msim_scores\u001b[0m \u001b[1;33m=\u001b[0m \u001b[0mlist\u001b[0m\u001b[1;33m(\u001b[0m\u001b[0menumerate\u001b[0m\u001b[1;33m(\u001b[0m\u001b[0mcosine_sim\u001b[0m\u001b[1;33m[\u001b[0m\u001b[0midx\u001b[0m\u001b[1;33m]\u001b[0m\u001b[1;33m)\u001b[0m\u001b[1;33m)\u001b[0m\u001b[1;33m\u001b[0m\u001b[1;33m\u001b[0m\u001b[0m\n\u001b[1;32m----> 4\u001b[1;33m     \u001b[0msim_scores\u001b[0m \u001b[1;33m=\u001b[0m \u001b[0msorted\u001b[0m\u001b[1;33m(\u001b[0m\u001b[0msim_scores\u001b[0m\u001b[1;33m,\u001b[0m \u001b[0mkey\u001b[0m\u001b[1;33m=\u001b[0m\u001b[1;32mlambda\u001b[0m \u001b[0mx\u001b[0m\u001b[1;33m:\u001b[0m \u001b[0mx\u001b[0m\u001b[1;33m[\u001b[0m\u001b[1;36m1\u001b[0m\u001b[1;33m]\u001b[0m\u001b[1;33m,\u001b[0m \u001b[0mreverse\u001b[0m\u001b[1;33m=\u001b[0m\u001b[1;32mTrue\u001b[0m\u001b[1;33m)\u001b[0m\u001b[1;33m\u001b[0m\u001b[1;33m\u001b[0m\u001b[0m\n\u001b[0m\u001b[0;32m      5\u001b[0m     \u001b[0msim_scores\u001b[0m \u001b[1;33m=\u001b[0m \u001b[0msim_scores\u001b[0m\u001b[1;33m[\u001b[0m\u001b[1;36m1\u001b[0m\u001b[1;33m:\u001b[0m\u001b[1;36m31\u001b[0m\u001b[1;33m]\u001b[0m\u001b[1;33m\u001b[0m\u001b[1;33m\u001b[0m\u001b[0m\n\u001b[0;32m      6\u001b[0m     \u001b[0mmovie_indices\u001b[0m \u001b[1;33m=\u001b[0m \u001b[1;33m[\u001b[0m\u001b[0mi\u001b[0m\u001b[1;33m[\u001b[0m\u001b[1;36m0\u001b[0m\u001b[1;33m]\u001b[0m \u001b[1;32mfor\u001b[0m \u001b[0mi\u001b[0m \u001b[1;32min\u001b[0m \u001b[0msim_scores\u001b[0m\u001b[1;33m]\u001b[0m\u001b[1;33m\u001b[0m\u001b[1;33m\u001b[0m\u001b[0m\n",
      "\u001b[1;31mValueError\u001b[0m: The truth value of an array with more than one element is ambiguous. Use a.any() or a.all()"
     ]
    }
   ],
   "source": [
    "get_recommendations('ManagementJobsHackathons').head(10)"
   ]
  },
  {
   "cell_type": "code",
   "execution_count": 10,
   "metadata": {},
   "outputs": [],
   "source": [
    "def combineFeatures(row):\n",
    "    return row['Domain'] + \" \" + row['Event1'] + \" \" + row['Event2'] \n",
    "\n",
    "data['combineFeatures'] = data.apply(combineFeatures, axis = 1)"
   ]
  },
  {
   "cell_type": "code",
   "execution_count": 12,
   "metadata": {},
   "outputs": [
    {
     "data": {
      "text/plain": [
       "0                    Management Jobs Hackathons\n",
       "1                Coding Certifications Webinars\n",
       "2                    Security Internships Fests\n",
       "3                Hardware Competitions Webinars\n",
       "4          Web Development Expos Certifications\n",
       "                         ...                   \n",
       "178                     Coding Courses Webinars\n",
       "179                           Other Talks Fests\n",
       "180           Software Architecture Talks Fests\n",
       "181    Development Processes Trainings Seminars\n",
       "182                      C Seminars Internships\n",
       "Name: combineFeatures, Length: 183, dtype: object"
      ]
     },
     "execution_count": 12,
     "metadata": {},
     "output_type": "execute_result"
    }
   ],
   "source": [
    "data['combineFeatures']"
   ]
  },
  {
   "cell_type": "code",
   "execution_count": 13,
   "metadata": {},
   "outputs": [
    {
     "data": {
      "text/html": [
       "<div>\n",
       "<style scoped>\n",
       "    .dataframe tbody tr th:only-of-type {\n",
       "        vertical-align: middle;\n",
       "    }\n",
       "\n",
       "    .dataframe tbody tr th {\n",
       "        vertical-align: top;\n",
       "    }\n",
       "\n",
       "    .dataframe thead th {\n",
       "        text-align: right;\n",
       "    }\n",
       "</style>\n",
       "<table border=\"1\" class=\"dataframe\">\n",
       "  <thead>\n",
       "    <tr style=\"text-align: right;\">\n",
       "      <th></th>\n",
       "      <th>Name</th>\n",
       "      <th>Domain</th>\n",
       "      <th>Event1</th>\n",
       "      <th>Event2</th>\n",
       "      <th>combineFeatures</th>\n",
       "    </tr>\n",
       "  </thead>\n",
       "  <tbody>\n",
       "    <tr>\n",
       "      <th>0</th>\n",
       "      <td>Bryan Brock</td>\n",
       "      <td>Management</td>\n",
       "      <td>Jobs</td>\n",
       "      <td>Hackathons</td>\n",
       "      <td>Management Jobs Hackathons</td>\n",
       "    </tr>\n",
       "    <tr>\n",
       "      <th>1</th>\n",
       "      <td>Joseph Sullivan</td>\n",
       "      <td>Coding</td>\n",
       "      <td>Certifications</td>\n",
       "      <td>Webinars</td>\n",
       "      <td>Coding Certifications Webinars</td>\n",
       "    </tr>\n",
       "    <tr>\n",
       "      <th>2</th>\n",
       "      <td>Sherri Dawson</td>\n",
       "      <td>Security</td>\n",
       "      <td>Internships</td>\n",
       "      <td>Fests</td>\n",
       "      <td>Security Internships Fests</td>\n",
       "    </tr>\n",
       "    <tr>\n",
       "      <th>3</th>\n",
       "      <td>Dustin Ferguson</td>\n",
       "      <td>Hardware</td>\n",
       "      <td>Competitions</td>\n",
       "      <td>Webinars</td>\n",
       "      <td>Hardware Competitions Webinars</td>\n",
       "    </tr>\n",
       "    <tr>\n",
       "      <th>4</th>\n",
       "      <td>Kayla Young</td>\n",
       "      <td>Web Development</td>\n",
       "      <td>Expos</td>\n",
       "      <td>Certifications</td>\n",
       "      <td>Web Development Expos Certifications</td>\n",
       "    </tr>\n",
       "    <tr>\n",
       "      <th>...</th>\n",
       "      <td>...</td>\n",
       "      <td>...</td>\n",
       "      <td>...</td>\n",
       "      <td>...</td>\n",
       "      <td>...</td>\n",
       "    </tr>\n",
       "    <tr>\n",
       "      <th>178</th>\n",
       "      <td>Katelyn Barnes</td>\n",
       "      <td>Coding</td>\n",
       "      <td>Courses</td>\n",
       "      <td>Webinars</td>\n",
       "      <td>Coding Courses Webinars</td>\n",
       "    </tr>\n",
       "    <tr>\n",
       "      <th>179</th>\n",
       "      <td>Gabriel Cruz</td>\n",
       "      <td>Other</td>\n",
       "      <td>Talks</td>\n",
       "      <td>Fests</td>\n",
       "      <td>Other Talks Fests</td>\n",
       "    </tr>\n",
       "    <tr>\n",
       "      <th>180</th>\n",
       "      <td>Christina Williams</td>\n",
       "      <td>Software Architecture</td>\n",
       "      <td>Talks</td>\n",
       "      <td>Fests</td>\n",
       "      <td>Software Architecture Talks Fests</td>\n",
       "    </tr>\n",
       "    <tr>\n",
       "      <th>181</th>\n",
       "      <td>William Turner</td>\n",
       "      <td>Development Processes</td>\n",
       "      <td>Trainings</td>\n",
       "      <td>Seminars</td>\n",
       "      <td>Development Processes Trainings Seminars</td>\n",
       "    </tr>\n",
       "    <tr>\n",
       "      <th>182</th>\n",
       "      <td>Damon Lane</td>\n",
       "      <td>C</td>\n",
       "      <td>Seminars</td>\n",
       "      <td>Internships</td>\n",
       "      <td>C Seminars Internships</td>\n",
       "    </tr>\n",
       "  </tbody>\n",
       "</table>\n",
       "<p>183 rows × 5 columns</p>\n",
       "</div>"
      ],
      "text/plain": [
       "                   Name                 Domain          Event1  \\\n",
       "0           Bryan Brock             Management            Jobs   \n",
       "1       Joseph Sullivan                 Coding  Certifications   \n",
       "2         Sherri Dawson               Security     Internships   \n",
       "3       Dustin Ferguson               Hardware    Competitions   \n",
       "4           Kayla Young        Web Development           Expos   \n",
       "..                  ...                    ...             ...   \n",
       "178      Katelyn Barnes                 Coding         Courses   \n",
       "179        Gabriel Cruz                  Other           Talks   \n",
       "180  Christina Williams  Software Architecture           Talks   \n",
       "181      William Turner  Development Processes       Trainings   \n",
       "182          Damon Lane                      C        Seminars   \n",
       "\n",
       "             Event2                           combineFeatures  \n",
       "0        Hackathons                Management Jobs Hackathons  \n",
       "1          Webinars            Coding Certifications Webinars  \n",
       "2             Fests                Security Internships Fests  \n",
       "3          Webinars            Hardware Competitions Webinars  \n",
       "4    Certifications      Web Development Expos Certifications  \n",
       "..              ...                                       ...  \n",
       "178        Webinars                   Coding Courses Webinars  \n",
       "179           Fests                         Other Talks Fests  \n",
       "180           Fests         Software Architecture Talks Fests  \n",
       "181        Seminars  Development Processes Trainings Seminars  \n",
       "182     Internships                    C Seminars Internships  \n",
       "\n",
       "[183 rows x 5 columns]"
      ]
     },
     "execution_count": 13,
     "metadata": {},
     "output_type": "execute_result"
    }
   ],
   "source": [
    "data"
   ]
  },
  {
   "cell_type": "code",
   "execution_count": 30,
   "metadata": {},
   "outputs": [],
   "source": [
    "cv = CountVectorizer()\n",
    "count_matrix = cv.fit_transform(data['combineFeatures'])\n",
    "cosine_sim = cosine_similarity(count_matrix,count_matrix)"
   ]
  },
  {
   "cell_type": "code",
   "execution_count": 31,
   "metadata": {},
   "outputs": [
    {
     "data": {
      "text/plain": [
       "array([[1.        , 0.        , 0.        , ..., 0.        , 0.        ,\n",
       "        0.        ],\n",
       "       [0.        , 1.        , 0.        , ..., 0.        , 0.        ,\n",
       "        0.        ],\n",
       "       [0.        , 0.        , 1.        , ..., 0.28867513, 0.        ,\n",
       "        0.40824829],\n",
       "       ...,\n",
       "       [0.        , 0.        , 0.28867513, ..., 1.        , 0.        ,\n",
       "        0.        ],\n",
       "       [0.        , 0.        , 0.        , ..., 0.        , 1.        ,\n",
       "        0.35355339],\n",
       "       [0.        , 0.        , 0.40824829, ..., 0.        , 0.35355339,\n",
       "        1.        ]])"
      ]
     },
     "execution_count": 31,
     "metadata": {},
     "output_type": "execute_result"
    }
   ],
   "source": [
    "cosine_sim"
   ]
  },
  {
   "cell_type": "code",
   "execution_count": 41,
   "metadata": {},
   "outputs": [
    {
     "data": {
      "text/plain": [
       "array([1.        , 0.        , 0.        , 0.        , 0.        ,\n",
       "       0.        , 0.        , 0.33333333, 0.        , 0.        ,\n",
       "       0.        , 0.66666667, 0.        , 0.33333333, 0.66666667,\n",
       "       0.        , 0.        , 0.        , 0.        , 0.        ,\n",
       "       0.        , 0.        , 0.        , 0.        , 0.        ,\n",
       "       0.        , 0.        , 0.        , 0.        , 0.33333333,\n",
       "       0.        , 0.33333333, 0.        , 0.        , 0.        ,\n",
       "       0.        , 0.28867513, 0.33333333, 0.        , 0.        ,\n",
       "       0.        , 0.        , 0.40824829, 0.        , 0.33333333,\n",
       "       0.        , 0.33333333, 0.        , 0.        , 0.28867513,\n",
       "       0.33333333, 0.        , 0.        , 0.        , 0.33333333,\n",
       "       0.        , 0.28867513, 0.        , 0.        , 0.        ,\n",
       "       0.        , 0.        , 0.        , 0.        , 0.        ,\n",
       "       0.        , 0.33333333, 0.66666667, 0.        , 0.        ,\n",
       "       0.        , 0.        , 0.        , 0.33333333, 0.        ,\n",
       "       0.        , 0.        , 0.        , 0.        , 0.28867513,\n",
       "       0.        , 0.        , 0.33333333, 0.        , 0.        ,\n",
       "       0.        , 0.57735027, 0.28867513, 0.        , 0.        ,\n",
       "       0.        , 0.        , 0.28867513, 0.        , 0.33333333,\n",
       "       0.        , 0.        , 0.66666667, 0.        , 0.        ,\n",
       "       0.        , 0.40824829, 1.        , 0.        , 0.        ,\n",
       "       0.33333333, 0.        , 0.40824829, 0.        , 0.        ,\n",
       "       0.33333333, 0.33333333, 0.        , 0.        , 0.        ,\n",
       "       0.        , 0.        , 0.33333333, 0.40824829, 0.33333333,\n",
       "       0.        , 0.28867513, 0.        , 0.33333333, 0.        ,\n",
       "       0.        , 0.        , 0.33333333, 0.        , 0.        ,\n",
       "       0.        , 0.        , 0.        , 0.33333333, 0.        ,\n",
       "       0.33333333, 0.33333333, 0.        , 0.        , 0.28867513,\n",
       "       0.        , 0.        , 0.        , 0.        , 0.28867513,\n",
       "       0.40824829, 0.        , 0.        , 1.        , 0.33333333,\n",
       "       0.        , 0.        , 0.        , 0.28867513, 0.        ,\n",
       "       0.        , 0.        , 0.33333333, 0.        , 0.        ,\n",
       "       0.33333333, 0.        , 0.        , 0.        , 0.        ,\n",
       "       0.28867513, 0.        , 0.33333333, 0.        , 0.        ,\n",
       "       0.        , 0.        , 0.        , 0.        , 0.28867513,\n",
       "       0.33333333, 0.        , 0.        , 0.        , 0.        ,\n",
       "       0.        , 0.        , 0.        ])"
      ]
     },
     "execution_count": 41,
     "metadata": {},
     "output_type": "execute_result"
    }
   ],
   "source": [
    "cosine_sim[0]"
   ]
  },
  {
   "cell_type": "code",
   "execution_count": 49,
   "metadata": {},
   "outputs": [],
   "source": [
    "data = data.reset_index(drop=True)\n",
    "indices = pd.Series(data.index, index=data['combineFeatures'])"
   ]
  },
  {
   "cell_type": "code",
   "execution_count": 50,
   "metadata": {},
   "outputs": [],
   "source": [
    "movie_index = data[data.Event1 == movie_name][\"Event1\"]\n",
    "similar_movies =  list(enumerate(cosine_sim[movie_index]))\n",
    "sorted_similar_movies = sorted(similar_movies,key=lambda x:x[1],reverse=True)"
   ]
  },
  {
   "cell_type": "code",
   "execution_count": 51,
   "metadata": {},
   "outputs": [
    {
     "data": {
      "text/plain": [
       "[]"
      ]
     },
     "execution_count": 51,
     "metadata": {},
     "output_type": "execute_result"
    }
   ],
   "source": [
    "[print(sorted_similar_movies[x]) for x in range(0)]"
   ]
  },
  {
   "cell_type": "code",
   "execution_count": 52,
   "metadata": {},
   "outputs": [],
   "source": [
    "data['Domain']=data['Domain'].fillna('')\n",
    "data['Event1']= data['Event1'].fillna('')\n",
    "data['Event2']= data['Event2'].fillna('')\n",
    "\n",
    "data['Domain']= data['Domain'] + data['Event1'] + data['Event2']\n"
   ]
  },
  {
   "cell_type": "code",
   "execution_count": 9,
   "metadata": {},
   "outputs": [],
   "source": [
    "tf = TfidfVectorizer(analyzer='word',ngram_range=(1, 2),min_df=0, stop_words='english')\n",
    "tfidf_matrix = tf.fit_transform(data['Domain'])"
   ]
  },
  {
   "cell_type": "code",
   "execution_count": 11,
   "metadata": {},
   "outputs": [
    {
     "data": {
      "text/plain": [
       "(183, 241)"
      ]
     },
     "execution_count": 11,
     "metadata": {},
     "output_type": "execute_result"
    }
   ],
   "source": [
    "tfidf_matrix.shape"
   ]
  },
  {
   "cell_type": "code",
   "execution_count": 14,
   "metadata": {},
   "outputs": [],
   "source": [
    "cosine_sim = linear_kernel(tfidf_matrix, tfidf_matrix)"
   ]
  },
  {
   "cell_type": "code",
   "execution_count": 31,
   "metadata": {},
   "outputs": [
    {
     "data": {
      "text/plain": [
       "array([1., 0., 0., 0., 0., 0., 0., 0., 0., 0., 0., 0., 0., 0., 0., 0., 0.,\n",
       "       0., 0., 0., 0., 0., 0., 0., 0., 0., 0., 0., 0., 0., 0., 0., 0., 0.,\n",
       "       0., 0., 0., 0., 0., 0., 0., 0., 0., 0., 0., 0., 0., 0., 0., 0., 0.,\n",
       "       0., 0., 0., 0., 0., 0., 0., 0., 0., 0., 0., 0., 0., 0., 0., 0., 0.,\n",
       "       0., 0., 0., 0., 0., 0., 0., 0., 0., 0., 0., 0., 0., 0., 0., 0., 0.,\n",
       "       0., 0., 0., 0., 0., 0., 0., 0., 0., 0., 0., 0., 0., 0., 0., 0., 0.,\n",
       "       0., 0., 0., 0., 0., 0., 0., 0., 0., 0., 0., 0., 0., 0., 0., 0., 0.,\n",
       "       0., 0., 0., 0., 0., 0., 0., 0., 0., 0., 0., 0., 0., 0., 0., 0., 0.,\n",
       "       0., 0., 0., 0., 0., 0., 0., 0., 0., 0., 0., 0., 1., 0., 0., 0., 0.,\n",
       "       0., 0., 0., 0., 0., 0., 0., 0., 0., 0., 0., 0., 0., 0., 0., 0., 0.,\n",
       "       0., 0., 0., 0., 0., 0., 0., 0., 0., 0., 0., 0., 0.])"
      ]
     },
     "execution_count": 31,
     "metadata": {},
     "output_type": "execute_result"
    }
   ],
   "source": [
    "cosine_sim[0]"
   ]
  },
  {
   "cell_type": "code",
   "execution_count": 33,
   "metadata": {},
   "outputs": [],
   "source": [
    "\n",
    "indices = pd.Series(data.index, index=data['Event1'])"
   ]
  },
  {
   "cell_type": "code",
   "execution_count": 34,
   "metadata": {},
   "outputs": [
    {
     "data": {
      "text/plain": [
       "Event1\n",
       "Jobs                0\n",
       "Certifications      1\n",
       "Internships         2\n",
       "Competitions        3\n",
       "Expos               4\n",
       "                 ... \n",
       "Courses           178\n",
       "Talks             179\n",
       "Talks             180\n",
       "Trainings         181\n",
       "Seminars          182\n",
       "Length: 183, dtype: int64"
      ]
     },
     "execution_count": 34,
     "metadata": {},
     "output_type": "execute_result"
    }
   ],
   "source": [
    "indices"
   ]
  },
  {
   "cell_type": "code",
   "execution_count": 57,
   "metadata": {},
   "outputs": [],
   "source": [
    "def get_recommendations_userwise(eventname):\n",
    "    idx = indices[eventname]\n",
    "    #print (idx)\n",
    "    sim_scores = list(enumerate(cosine_sim[idx]))\n",
    "    #print (sim_scores)\n",
    "    sim_scores = sorted(sim_scores, key=lambda x: x[1], reverse=True)\n",
    "    user_indices = [i[0] for i in sim_scores]\n",
    "    #print (user_indices)\n",
    "    return user_indices[0:11]"
   ]
  },
  {
   "cell_type": "code",
   "execution_count": 63,
   "metadata": {},
   "outputs": [
    {
     "name": "stdout",
     "output_type": "stream",
     "text": [
      "-----Top 10 Similar users with userId: 123------\n"
     ]
    },
    {
     "ename": "KeyError",
     "evalue": "'Programming'",
     "output_type": "error",
     "traceback": [
      "\u001b[1;31m---------------------------------------------------------------------------\u001b[0m",
      "\u001b[1;31mTypeError\u001b[0m                                 Traceback (most recent call last)",
      "\u001b[1;32m~\\Anaconda3\\lib\\site-packages\\pandas\\core\\indexes\\base.py\u001b[0m in \u001b[0;36mget_value\u001b[1;34m(self, series, key)\u001b[0m\n\u001b[0;32m   4409\u001b[0m             \u001b[1;32mtry\u001b[0m\u001b[1;33m:\u001b[0m\u001b[1;33m\u001b[0m\u001b[1;33m\u001b[0m\u001b[0m\n\u001b[1;32m-> 4410\u001b[1;33m                 \u001b[1;32mreturn\u001b[0m \u001b[0mlibindex\u001b[0m\u001b[1;33m.\u001b[0m\u001b[0mget_value_at\u001b[0m\u001b[1;33m(\u001b[0m\u001b[0ms\u001b[0m\u001b[1;33m,\u001b[0m \u001b[0mkey\u001b[0m\u001b[1;33m)\u001b[0m\u001b[1;33m\u001b[0m\u001b[1;33m\u001b[0m\u001b[0m\n\u001b[0m\u001b[0;32m   4411\u001b[0m             \u001b[1;32mexcept\u001b[0m \u001b[0mIndexError\u001b[0m\u001b[1;33m:\u001b[0m\u001b[1;33m\u001b[0m\u001b[1;33m\u001b[0m\u001b[0m\n",
      "\u001b[1;32mpandas\\_libs\\index.pyx\u001b[0m in \u001b[0;36mpandas._libs.index.get_value_at\u001b[1;34m()\u001b[0m\n",
      "\u001b[1;32mpandas\\_libs\\index.pyx\u001b[0m in \u001b[0;36mpandas._libs.index.get_value_at\u001b[1;34m()\u001b[0m\n",
      "\u001b[1;32mpandas\\_libs\\util.pxd\u001b[0m in \u001b[0;36mpandas._libs.util.get_value_at\u001b[1;34m()\u001b[0m\n",
      "\u001b[1;32mpandas\\_libs\\util.pxd\u001b[0m in \u001b[0;36mpandas._libs.util.validate_indexer\u001b[1;34m()\u001b[0m\n",
      "\u001b[1;31mTypeError\u001b[0m: 'str' object cannot be interpreted as an integer",
      "\nDuring handling of the above exception, another exception occurred:\n",
      "\u001b[1;31mKeyError\u001b[0m                                  Traceback (most recent call last)",
      "\u001b[1;32m<ipython-input-63-6c6066ab844f>\u001b[0m in \u001b[0;36m<module>\u001b[1;34m\u001b[0m\n\u001b[0;32m      1\u001b[0m \u001b[0mprint\u001b[0m \u001b[1;33m(\u001b[0m\u001b[1;34m\"-----Top 10 Similar users with userId: 123------\"\u001b[0m\u001b[1;33m)\u001b[0m\u001b[1;33m\u001b[0m\u001b[1;33m\u001b[0m\u001b[0m\n\u001b[1;32m----> 2\u001b[1;33m \u001b[0mget_recommendations_userwise\u001b[0m\u001b[1;33m(\u001b[0m\u001b[1;34m'Programming'\u001b[0m\u001b[1;33m)\u001b[0m\u001b[1;33m\u001b[0m\u001b[1;33m\u001b[0m\u001b[0m\n\u001b[0m",
      "\u001b[1;32m<ipython-input-57-48384807d9d9>\u001b[0m in \u001b[0;36mget_recommendations_userwise\u001b[1;34m(eventname)\u001b[0m\n\u001b[0;32m      1\u001b[0m \u001b[1;32mdef\u001b[0m \u001b[0mget_recommendations_userwise\u001b[0m\u001b[1;33m(\u001b[0m\u001b[0meventname\u001b[0m\u001b[1;33m)\u001b[0m\u001b[1;33m:\u001b[0m\u001b[1;33m\u001b[0m\u001b[1;33m\u001b[0m\u001b[0m\n\u001b[1;32m----> 2\u001b[1;33m     \u001b[0midx\u001b[0m \u001b[1;33m=\u001b[0m \u001b[0mindices\u001b[0m\u001b[1;33m[\u001b[0m\u001b[0meventname\u001b[0m\u001b[1;33m]\u001b[0m\u001b[1;33m\u001b[0m\u001b[1;33m\u001b[0m\u001b[0m\n\u001b[0m\u001b[0;32m      3\u001b[0m     \u001b[1;31m#print (idx)\u001b[0m\u001b[1;33m\u001b[0m\u001b[1;33m\u001b[0m\u001b[1;33m\u001b[0m\u001b[0m\n\u001b[0;32m      4\u001b[0m     \u001b[0msim_scores\u001b[0m \u001b[1;33m=\u001b[0m \u001b[0mlist\u001b[0m\u001b[1;33m(\u001b[0m\u001b[0menumerate\u001b[0m\u001b[1;33m(\u001b[0m\u001b[0mcosine_sim\u001b[0m\u001b[1;33m[\u001b[0m\u001b[0midx\u001b[0m\u001b[1;33m]\u001b[0m\u001b[1;33m)\u001b[0m\u001b[1;33m)\u001b[0m\u001b[1;33m\u001b[0m\u001b[1;33m\u001b[0m\u001b[0m\n\u001b[0;32m      5\u001b[0m     \u001b[1;31m#print (sim_scores)\u001b[0m\u001b[1;33m\u001b[0m\u001b[1;33m\u001b[0m\u001b[1;33m\u001b[0m\u001b[0m\n",
      "\u001b[1;32m~\\Anaconda3\\lib\\site-packages\\pandas\\core\\series.py\u001b[0m in \u001b[0;36m__getitem__\u001b[1;34m(self, key)\u001b[0m\n\u001b[0;32m    869\u001b[0m         \u001b[0mkey\u001b[0m \u001b[1;33m=\u001b[0m \u001b[0mcom\u001b[0m\u001b[1;33m.\u001b[0m\u001b[0mapply_if_callable\u001b[0m\u001b[1;33m(\u001b[0m\u001b[0mkey\u001b[0m\u001b[1;33m,\u001b[0m \u001b[0mself\u001b[0m\u001b[1;33m)\u001b[0m\u001b[1;33m\u001b[0m\u001b[1;33m\u001b[0m\u001b[0m\n\u001b[0;32m    870\u001b[0m         \u001b[1;32mtry\u001b[0m\u001b[1;33m:\u001b[0m\u001b[1;33m\u001b[0m\u001b[1;33m\u001b[0m\u001b[0m\n\u001b[1;32m--> 871\u001b[1;33m             \u001b[0mresult\u001b[0m \u001b[1;33m=\u001b[0m \u001b[0mself\u001b[0m\u001b[1;33m.\u001b[0m\u001b[0mindex\u001b[0m\u001b[1;33m.\u001b[0m\u001b[0mget_value\u001b[0m\u001b[1;33m(\u001b[0m\u001b[0mself\u001b[0m\u001b[1;33m,\u001b[0m \u001b[0mkey\u001b[0m\u001b[1;33m)\u001b[0m\u001b[1;33m\u001b[0m\u001b[1;33m\u001b[0m\u001b[0m\n\u001b[0m\u001b[0;32m    872\u001b[0m \u001b[1;33m\u001b[0m\u001b[0m\n\u001b[0;32m    873\u001b[0m             \u001b[1;32mif\u001b[0m \u001b[1;32mnot\u001b[0m \u001b[0mis_scalar\u001b[0m\u001b[1;33m(\u001b[0m\u001b[0mresult\u001b[0m\u001b[1;33m)\u001b[0m\u001b[1;33m:\u001b[0m\u001b[1;33m\u001b[0m\u001b[1;33m\u001b[0m\u001b[0m\n",
      "\u001b[1;32m~\\Anaconda3\\lib\\site-packages\\pandas\\core\\indexes\\base.py\u001b[0m in \u001b[0;36mget_value\u001b[1;34m(self, series, key)\u001b[0m\n\u001b[0;32m   4416\u001b[0m                     \u001b[1;32mraise\u001b[0m \u001b[0mInvalidIndexError\u001b[0m\u001b[1;33m(\u001b[0m\u001b[0mkey\u001b[0m\u001b[1;33m)\u001b[0m\u001b[1;33m\u001b[0m\u001b[1;33m\u001b[0m\u001b[0m\n\u001b[0;32m   4417\u001b[0m                 \u001b[1;32melse\u001b[0m\u001b[1;33m:\u001b[0m\u001b[1;33m\u001b[0m\u001b[1;33m\u001b[0m\u001b[0m\n\u001b[1;32m-> 4418\u001b[1;33m                     \u001b[1;32mraise\u001b[0m \u001b[0me1\u001b[0m\u001b[1;33m\u001b[0m\u001b[1;33m\u001b[0m\u001b[0m\n\u001b[0m\u001b[0;32m   4419\u001b[0m             \u001b[1;32mexcept\u001b[0m \u001b[0mException\u001b[0m\u001b[1;33m:\u001b[0m\u001b[1;33m\u001b[0m\u001b[1;33m\u001b[0m\u001b[0m\n\u001b[0;32m   4420\u001b[0m                 \u001b[1;32mraise\u001b[0m \u001b[0me1\u001b[0m\u001b[1;33m\u001b[0m\u001b[1;33m\u001b[0m\u001b[0m\n",
      "\u001b[1;32m~\\Anaconda3\\lib\\site-packages\\pandas\\core\\indexes\\base.py\u001b[0m in \u001b[0;36mget_value\u001b[1;34m(self, series, key)\u001b[0m\n\u001b[0;32m   4402\u001b[0m         \u001b[0mk\u001b[0m \u001b[1;33m=\u001b[0m \u001b[0mself\u001b[0m\u001b[1;33m.\u001b[0m\u001b[0m_convert_scalar_indexer\u001b[0m\u001b[1;33m(\u001b[0m\u001b[0mk\u001b[0m\u001b[1;33m,\u001b[0m \u001b[0mkind\u001b[0m\u001b[1;33m=\u001b[0m\u001b[1;34m\"getitem\"\u001b[0m\u001b[1;33m)\u001b[0m\u001b[1;33m\u001b[0m\u001b[1;33m\u001b[0m\u001b[0m\n\u001b[0;32m   4403\u001b[0m         \u001b[1;32mtry\u001b[0m\u001b[1;33m:\u001b[0m\u001b[1;33m\u001b[0m\u001b[1;33m\u001b[0m\u001b[0m\n\u001b[1;32m-> 4404\u001b[1;33m             \u001b[1;32mreturn\u001b[0m \u001b[0mself\u001b[0m\u001b[1;33m.\u001b[0m\u001b[0m_engine\u001b[0m\u001b[1;33m.\u001b[0m\u001b[0mget_value\u001b[0m\u001b[1;33m(\u001b[0m\u001b[0ms\u001b[0m\u001b[1;33m,\u001b[0m \u001b[0mk\u001b[0m\u001b[1;33m,\u001b[0m \u001b[0mtz\u001b[0m\u001b[1;33m=\u001b[0m\u001b[0mgetattr\u001b[0m\u001b[1;33m(\u001b[0m\u001b[0mseries\u001b[0m\u001b[1;33m.\u001b[0m\u001b[0mdtype\u001b[0m\u001b[1;33m,\u001b[0m \u001b[1;34m\"tz\"\u001b[0m\u001b[1;33m,\u001b[0m \u001b[1;32mNone\u001b[0m\u001b[1;33m)\u001b[0m\u001b[1;33m)\u001b[0m\u001b[1;33m\u001b[0m\u001b[1;33m\u001b[0m\u001b[0m\n\u001b[0m\u001b[0;32m   4405\u001b[0m         \u001b[1;32mexcept\u001b[0m \u001b[0mKeyError\u001b[0m \u001b[1;32mas\u001b[0m \u001b[0me1\u001b[0m\u001b[1;33m:\u001b[0m\u001b[1;33m\u001b[0m\u001b[1;33m\u001b[0m\u001b[0m\n\u001b[0;32m   4406\u001b[0m             \u001b[1;32mif\u001b[0m \u001b[0mlen\u001b[0m\u001b[1;33m(\u001b[0m\u001b[0mself\u001b[0m\u001b[1;33m)\u001b[0m \u001b[1;33m>\u001b[0m \u001b[1;36m0\u001b[0m \u001b[1;32mand\u001b[0m \u001b[1;33m(\u001b[0m\u001b[0mself\u001b[0m\u001b[1;33m.\u001b[0m\u001b[0mholds_integer\u001b[0m\u001b[1;33m(\u001b[0m\u001b[1;33m)\u001b[0m \u001b[1;32mor\u001b[0m \u001b[0mself\u001b[0m\u001b[1;33m.\u001b[0m\u001b[0mis_boolean\u001b[0m\u001b[1;33m(\u001b[0m\u001b[1;33m)\u001b[0m\u001b[1;33m)\u001b[0m\u001b[1;33m:\u001b[0m\u001b[1;33m\u001b[0m\u001b[1;33m\u001b[0m\u001b[0m\n",
      "\u001b[1;32mpandas\\_libs\\index.pyx\u001b[0m in \u001b[0;36mpandas._libs.index.IndexEngine.get_value\u001b[1;34m()\u001b[0m\n",
      "\u001b[1;32mpandas\\_libs\\index.pyx\u001b[0m in \u001b[0;36mpandas._libs.index.IndexEngine.get_value\u001b[1;34m()\u001b[0m\n",
      "\u001b[1;32mpandas\\_libs\\index.pyx\u001b[0m in \u001b[0;36mpandas._libs.index.IndexEngine.get_loc\u001b[1;34m()\u001b[0m\n",
      "\u001b[1;32mpandas\\_libs\\index.pyx\u001b[0m in \u001b[0;36mpandas._libs.index.IndexEngine._get_loc_duplicates\u001b[1;34m()\u001b[0m\n",
      "\u001b[1;32mpandas\\_libs\\index.pyx\u001b[0m in \u001b[0;36mpandas._libs.index.IndexEngine._maybe_get_bool_indexer\u001b[1;34m()\u001b[0m\n",
      "\u001b[1;31mKeyError\u001b[0m: 'Programming'"
     ]
    }
   ],
   "source": [
    "print (\"-----Top 10 Similar users with userId: 123------\")\n",
    "get_recommendations_userwise('Programming')"
   ]
  },
  {
   "cell_type": "code",
   "execution_count": 59,
   "metadata": {},
   "outputs": [],
   "source": [
    "def get_job_id(usrid_list):\n",
    "    jobs_userwise = data['Domain'].isin(usrid_list) #\n",
    "    df1 = pd.DataFrame(data = data[jobs_userwise], columns=['Domain'])\n",
    "    joblist = df1['Domain'].tolist()\n",
    "    Job_list = data['Name'].isin(joblist) #[1083186, 516837, 507614, 754917, 686406, 1058896, 335132])\n",
    "    df_temp = pd.DataFrame(data = data[Job_list], columns=['Name','Domain','Event1','Event2'])\n",
    "    return df_temp"
   ]
  },
  {
   "cell_type": "code",
   "execution_count": 62,
   "metadata": {},
   "outputs": [
    {
     "data": {
      "text/html": [
       "<div>\n",
       "<style scoped>\n",
       "    .dataframe tbody tr th:only-of-type {\n",
       "        vertical-align: middle;\n",
       "    }\n",
       "\n",
       "    .dataframe tbody tr th {\n",
       "        vertical-align: top;\n",
       "    }\n",
       "\n",
       "    .dataframe thead th {\n",
       "        text-align: right;\n",
       "    }\n",
       "</style>\n",
       "<table border=\"1\" class=\"dataframe\">\n",
       "  <thead>\n",
       "    <tr style=\"text-align: right;\">\n",
       "      <th></th>\n",
       "      <th>Name</th>\n",
       "      <th>Domain</th>\n",
       "      <th>Event1</th>\n",
       "      <th>Event2</th>\n",
       "    </tr>\n",
       "  </thead>\n",
       "  <tbody>\n",
       "  </tbody>\n",
       "</table>\n",
       "</div>"
      ],
      "text/plain": [
       "Empty DataFrame\n",
       "Columns: [Name, Domain, Event1, Event2]\n",
       "Index: []"
      ]
     },
     "execution_count": 62,
     "metadata": {},
     "output_type": "execute_result"
    }
   ],
   "source": [
    "get_job_id(get_recommendations_userwise(100))"
   ]
  }
 ],
 "metadata": {
  "kernelspec": {
   "display_name": "Python 3",
   "language": "python",
   "name": "python3"
  },
  "language_info": {
   "codemirror_mode": {
    "name": "ipython",
    "version": 3
   },
   "file_extension": ".py",
   "mimetype": "text/x-python",
   "name": "python",
   "nbconvert_exporter": "python",
   "pygments_lexer": "ipython3",
   "version": "3.7.3"
  }
 },
 "nbformat": 4,
 "nbformat_minor": 4
}
